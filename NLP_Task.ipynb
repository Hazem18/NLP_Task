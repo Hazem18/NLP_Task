{
  "nbformat": 4,
  "nbformat_minor": 0,
  "metadata": {
    "colab": {
      "provenance": [],
      "authorship_tag": "ABX9TyM1fnl8LHk6YIuah+ZS7TnW",
      "include_colab_link": true
    },
    "kernelspec": {
      "name": "python3",
      "display_name": "Python 3"
    },
    "language_info": {
      "name": "python"
    }
  },
  "cells": [
    {
      "cell_type": "markdown",
      "metadata": {
        "id": "view-in-github",
        "colab_type": "text"
      },
      "source": [
        "<a href=\"https://colab.research.google.com/github/Hazem18/NLP_Task/blob/main/NLP_Task.ipynb\" target=\"_parent\"><img src=\"https://colab.research.google.com/assets/colab-badge.svg\" alt=\"Open In Colab\"/></a>"
      ]
    },
    {
      "cell_type": "code",
      "execution_count": 2,
      "metadata": {
        "colab": {
          "base_uri": "https://localhost:8080/",
          "height": 1000
        },
        "id": "BxVjCyEF--hP",
        "outputId": "7d156819-bc58-4b05-f703-178550a345d9"
      },
      "outputs": [
        {
          "output_type": "stream",
          "name": "stdout",
          "text": [
            "Epoch 1/20\n"
          ]
        },
        {
          "output_type": "stream",
          "name": "stderr",
          "text": [
            "/usr/local/lib/python3.11/dist-packages/keras/src/layers/core/embedding.py:90: UserWarning: Argument `input_length` is deprecated. Just remove it.\n",
            "  warnings.warn(\n"
          ]
        },
        {
          "output_type": "stream",
          "name": "stdout",
          "text": [
            "\u001b[1m250/250\u001b[0m \u001b[32m━━━━━━━━━━━━━━━━━━━━\u001b[0m\u001b[37m\u001b[0m \u001b[1m12s\u001b[0m 39ms/step - accuracy: 0.4934 - loss: 0.7582 - val_accuracy: 0.5155 - val_loss: 0.7410 - learning_rate: 5.0000e-04\n",
            "Epoch 2/20\n",
            "\u001b[1m250/250\u001b[0m \u001b[32m━━━━━━━━━━━━━━━━━━━━\u001b[0m\u001b[37m\u001b[0m \u001b[1m10s\u001b[0m 38ms/step - accuracy: 0.7075 - loss: 0.6819 - val_accuracy: 0.5945 - val_loss: 0.7230 - learning_rate: 5.0000e-04\n",
            "Epoch 3/20\n",
            "\u001b[1m250/250\u001b[0m \u001b[32m━━━━━━━━━━━━━━━━━━━━\u001b[0m\u001b[37m\u001b[0m \u001b[1m9s\u001b[0m 36ms/step - accuracy: 0.8704 - loss: 0.4197 - val_accuracy: 0.6585 - val_loss: 0.6908 - learning_rate: 5.0000e-04\n",
            "Epoch 4/20\n",
            "\u001b[1m250/250\u001b[0m \u001b[32m━━━━━━━━━━━━━━━━━━━━\u001b[0m\u001b[37m\u001b[0m \u001b[1m10s\u001b[0m 33ms/step - accuracy: 0.9772 - loss: 0.1544 - val_accuracy: 0.7055 - val_loss: 0.7158 - learning_rate: 5.0000e-04\n",
            "Epoch 5/20\n",
            "\u001b[1m249/250\u001b[0m \u001b[32m━━━━━━━━━━━━━━━━━━━\u001b[0m\u001b[37m━\u001b[0m \u001b[1m0s\u001b[0m 33ms/step - accuracy: 0.9953 - loss: 0.0767\n",
            "Epoch 5: ReduceLROnPlateau reducing learning rate to 0.0002500000118743628.\n",
            "\u001b[1m250/250\u001b[0m \u001b[32m━━━━━━━━━━━━━━━━━━━━\u001b[0m\u001b[37m\u001b[0m \u001b[1m11s\u001b[0m 35ms/step - accuracy: 0.9953 - loss: 0.0767 - val_accuracy: 0.7425 - val_loss: 0.7156 - learning_rate: 5.0000e-04\n",
            "Epoch 6/20\n",
            "\u001b[1m250/250\u001b[0m \u001b[32m━━━━━━━━━━━━━━━━━━━━\u001b[0m\u001b[37m\u001b[0m \u001b[1m11s\u001b[0m 42ms/step - accuracy: 0.9991 - loss: 0.0535 - val_accuracy: 0.7495 - val_loss: 0.7427 - learning_rate: 2.5000e-04\n"
          ]
        },
        {
          "output_type": "stream",
          "name": "stderr",
          "text": [
            "WARNING:absl:You are saving your model as an HDF5 file via `model.save()` or `keras.saving.save_model(model)`. This file format is considered legacy. We recommend using instead the native Keras format, e.g. `model.save('my_model.keras')` or `keras.saving.save_model(model, 'my_model.keras')`. \n",
            "WARNING:absl:Compiled the loaded model, but the compiled metrics have yet to be built. `model.compile_metrics` will be empty until you train or evaluate the model.\n"
          ]
        },
        {
          "output_type": "stream",
          "name": "stdout",
          "text": [
            "Model training complete and saved as simple_rnn_imdb_sentiment.h5\n",
            "\u001b[1m63/63\u001b[0m \u001b[32m━━━━━━━━━━━━━━━━━━━━\u001b[0m\u001b[37m\u001b[0m \u001b[1m1s\u001b[0m 9ms/step - accuracy: 0.6572 - loss: 0.6920\n",
            "Test Loss: 0.6908\n",
            "Test Accuracy: 0.6585\n",
            "\u001b[1m63/63\u001b[0m \u001b[32m━━━━━━━━━━━━━━━━━━━━\u001b[0m\u001b[37m\u001b[0m \u001b[1m1s\u001b[0m 11ms/step\n",
            "              precision    recall  f1-score   support\n",
            "\n",
            "           0       0.65      0.68      0.67       999\n",
            "           1       0.67      0.64      0.65      1001\n",
            "\n",
            "    accuracy                           0.66      2000\n",
            "   macro avg       0.66      0.66      0.66      2000\n",
            "weighted avg       0.66      0.66      0.66      2000\n",
            "\n"
          ]
        },
        {
          "output_type": "display_data",
          "data": {
            "text/plain": [
              "<Figure size 600x500 with 2 Axes>"
            ],
            "image/png": "[encoded data removed]"
          },
          "metadata": {}
        },
        {
          "output_type": "stream",
          "name": "stdout",
          "text": [
            "\u001b[1m1/1\u001b[0m \u001b[32m━━━━━━━━━━━━━━━━━━━━\u001b[0m\u001b[37m\u001b[0m \u001b[1m0s\u001b[0m 45ms/step\n",
            "Review: This movie was absolutely amazing! The story and acting were top-notch.\n",
            "Predicted Sentiment: Positive (Confidence: 0.7172)\n",
            "------------------------------------------------------------\n",
            "\u001b[1m1/1\u001b[0m \u001b[32m━━━━━━━━━━━━━━━━━━━━\u001b[0m\u001b[37m\u001b[0m \u001b[1m0s\u001b[0m 40ms/step\n",
            "Review: Terrible movie. The plot made no sense, and the characters were boring.\n",
            "Predicted Sentiment: Negative (Confidence: 0.1516)\n",
            "------------------------------------------------------------\n",
            "\u001b[1m1/1\u001b[0m \u001b[32m━━━━━━━━━━━━━━━━━━━━\u001b[0m\u001b[37m\u001b[0m \u001b[1m0s\u001b[0m 44ms/step\n",
            "Review: I liked it, but I wouldn't watch it again. Some parts were too slow.\n",
            "Predicted Sentiment: Negative (Confidence: 0.1671)\n",
            "------------------------------------------------------------\n",
            "\u001b[1m1/1\u001b[0m \u001b[32m━━━━━━━━━━━━━━━━━━━━\u001b[0m\u001b[37m\u001b[0m \u001b[1m0s\u001b[0m 39ms/step\n",
            "Review: One of the best films of the decade! Highly recommended.\n",
            "Predicted Sentiment: Positive (Confidence: 0.6226)\n",
            "------------------------------------------------------------\n",
            "\u001b[1m1/1\u001b[0m \u001b[32m━━━━━━━━━━━━━━━━━━━━\u001b[0m\u001b[37m\u001b[0m \u001b[1m0s\u001b[0m 41ms/step\n",
            "Review: Worst movie I've ever seen. Complete waste of time.\n",
            "Predicted Sentiment: Negative (Confidence: 0.3179)\n",
            "------------------------------------------------------------\n",
            "\u001b[1m1/1\u001b[0m \u001b[32m━━━━━━━━━━━━━━━━━━━━\u001b[0m\u001b[37m\u001b[0m \u001b[1m0s\u001b[0m 39ms/step\n",
            "Review: Not bad, but could have been much better.\n",
            "Predicted Sentiment: Negative (Confidence: 0.2077)\n",
            "------------------------------------------------------------\n",
            "\u001b[1m1/1\u001b[0m \u001b[32m━━━━━━━━━━━━━━━━━━━━\u001b[0m\u001b[37m\u001b[0m \u001b[1m0s\u001b[0m 54ms/step\n",
            "Review: A masterpiece! Brilliant direction and acting.\n",
            "Predicted Sentiment: Positive (Confidence: 0.7897)\n",
            "------------------------------------------------------------\n",
            "\u001b[1m1/1\u001b[0m \u001b[32m━━━━━━━━━━━━━━━━━━━━\u001b[0m\u001b[37m\u001b[0m \u001b[1m0s\u001b[0m 41ms/step\n",
            "Review: I fell asleep while watching. It was that bad.\n",
            "Predicted Sentiment: Negative (Confidence: 0.4024)\n",
            "------------------------------------------------------------\n"
          ]
        }
      ],
      "source": [
        "import pandas as pd\n",
        "import numpy as np\n",
        "import tensorflow as tf\n",
        "from tensorflow.keras.preprocessing.text import Tokenizer\n",
        "from tensorflow.keras.preprocessing.sequence import pad_sequences\n",
        "from sklearn.model_selection import train_test_split\n",
        "import kagglehub\n",
        "import os\n",
        "import seaborn as sns\n",
        "import matplotlib.pyplot as plt\n",
        "from sklearn.metrics import confusion_matrix, classification_report\n",
        "\n",
        "# Download the IMDb dataset\n",
        "df_path = kagglehub.dataset_download(\"lakshmi25npathi/imdb-dataset-of-50k-movie-reviews\")\n",
        "\n",
        "# Locate the CSV file\n",
        "for filename in os.listdir(df_path):\n",
        "    if filename.endswith(\".csv\"):\n",
        "        csv_file_path = os.path.join(df_path, filename)\n",
        "        break\n",
        "\n",
        "# Load dataset\n",
        "df = pd.read_csv(csv_file_path)\n",
        "\n",
        "# Keep relevant columns and convert labels\n",
        "df = df[['review', 'sentiment']]\n",
        "df['sentiment'] = df['sentiment'].map({'positive': 1, 'negative': 0})\n",
        "\n",
        "# Sample 10,000 reviews or the maximum available\n",
        "sample_size = min(10000, len(df))\n",
        "df = df.sample(sample_size, random_state=42)\n",
        "\n",
        "# Split dataset\n",
        "X_train, X_test, y_train, y_test = train_test_split(df['review'], df['sentiment'], test_size=0.2, random_state=42)\n",
        "\n",
        "# Hyperparameters\n",
        "MAX_VOCAB = 10000\n",
        "MAX_LEN = 100\n",
        "\n",
        "# Tokenization\n",
        "tokenizer = Tokenizer(num_words=MAX_VOCAB, oov_token=\"\")\n",
        "tokenizer.fit_on_texts(X_train)\n",
        "\n",
        "X_train_seq = tokenizer.texts_to_sequences(X_train)\n",
        "X_test_seq = tokenizer.texts_to_sequences(X_test)\n",
        "\n",
        "# Padding\n",
        "X_train_pad = pad_sequences(X_train_seq, maxlen=MAX_LEN, padding='post', truncating='post')\n",
        "X_test_pad = pad_sequences(X_test_seq, maxlen=MAX_LEN, padding='post', truncating='post')\n",
        "\n",
        "# Define model\n",
        "model = tf.keras.Sequential([\n",
        "    tf.keras.layers.Embedding(MAX_VOCAB, 64, input_length=MAX_LEN),\n",
        "    tf.keras.layers.SimpleRNN(64, return_sequences=False, kernel_regularizer=tf.keras.regularizers.L2(0.001)),\n",
        "    tf.keras.layers.Dense(1, activation='sigmoid')\n",
        "])\n",
        "\n",
        "# Compile model\n",
        "model.compile(loss='binary_crossentropy', optimizer=tf.keras.optimizers.Adam(learning_rate=0.0005), metrics=['accuracy'])\n",
        "\n",
        "# Callbacks\n",
        "early_stop = tf.keras.callbacks.EarlyStopping(monitor='val_loss', patience=3, restore_best_weights=True)\n",
        "reduce_lr = tf.keras.callbacks.ReduceLROnPlateau(monitor='val_loss', factor=0.5, patience=2, verbose=1)\n",
        "\n",
        "# Train model\n",
        "history = model.fit(\n",
        "    X_train_pad, y_train,\n",
        "    validation_data=(X_test_pad, y_test),\n",
        "    epochs=20, batch_size=32,\n",
        "    callbacks=[early_stop, reduce_lr]\n",
        ")\n",
        "\n",
        "# Save model\n",
        "model.save(\"simple_rnn_imdb_sentiment.h5\")\n",
        "\n",
        "print(\"Model training complete and saved as simple_rnn_imdb_sentiment.h5\")\n",
        "\n",
        "# --------------------\n",
        "# Model Evaluation\n",
        "# --------------------\n",
        "\n",
        "# Load trained model\n",
        "model = tf.keras.models.load_model(\"simple_rnn_imdb_sentiment.h5\")\n",
        "\n",
        "# Evaluate on test set\n",
        "test_loss, test_accuracy = model.evaluate(X_test_pad, y_test)\n",
        "print(f\"Test Loss: {test_loss:.4f}\")\n",
        "print(f\"Test Accuracy: {test_accuracy:.4f}\")\n",
        "\n",
        "# Predict on test set\n",
        "y_pred_probs = model.predict(X_test_pad)\n",
        "y_pred = (y_pred_probs > 0.5).astype(int)\n",
        "\n",
        "# Classification report\n",
        "print(classification_report(y_test, y_pred))\n",
        "\n",
        "# Confusion Matrix\n",
        "cm = confusion_matrix(y_test, y_pred)\n",
        "plt.figure(figsize=(6,5))\n",
        "sns.heatmap(cm, annot=True, fmt=\"d\", cmap=\"Blues\", xticklabels=['Negative', 'Positive'], yticklabels=['Negative', 'Positive'])\n",
        "plt.xlabel(\"Predicted Label\")\n",
        "plt.ylabel(\"True Label\")\n",
        "plt.title(\"Confusion Matrix\")\n",
        "plt.show()\n",
        "\n",
        "# --------------------\n",
        "# Sentiment Prediction Function\n",
        "# --------------------\n",
        "\n",
        "def predict_sentiment(review, model, tokenizer, max_len=100):\n",
        "    seq = tokenizer.texts_to_sequences([review])\n",
        "    pad_seq = pad_sequences(seq, maxlen=max_len, padding='post', truncating='post')\n",
        "    pred_prob = model.predict(pad_seq)[0][0]\n",
        "    sentiment = \"Positive\" if pred_prob > 0.5 else \"Negative\"\n",
        "\n",
        "    print(f\"Review: {review}\")\n",
        "    print(f\"Predicted Sentiment: {sentiment} (Confidence: {pred_prob:.4f})\")\n",
        "    print(\"-\" * 60)\n",
        "\n",
        "# Example movie reviews for testing\n",
        "example_reviews = [\n",
        "    \"This movie was absolutely amazing! The story and acting were top-notch.\",\n",
        "    \"Terrible movie. The plot made no sense, and the characters were boring.\",\n",
        "    \"I liked it, but I wouldn't watch it again. Some parts were too slow.\",\n",
        "    \"One of the best films of the decade! Highly recommended.\",\n",
        "    \"Worst movie I've ever seen. Complete waste of time.\",\n",
        "    \"Not bad, but could have been much better.\",\n",
        "    \"A masterpiece! Brilliant direction and acting.\",\n",
        "    \"I fell asleep while watching. It was that bad.\"\n",
        "]\n",
        "\n",
        "# Test predictions\n",
        "for review in example_reviews:\n",
        "    predict_sentiment(review, model, tokenizer)\n"
      ]
    }
  ]
}